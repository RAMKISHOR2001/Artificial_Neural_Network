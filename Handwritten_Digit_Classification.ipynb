{
 "cells": [
  {
   "cell_type": "code",
   "execution_count": 1,
   "id": "6c0e010f-8ad8-442a-98ad-dd1ef510f698",
   "metadata": {},
   "outputs": [],
   "source": [
    "import tensorflow as tf\n",
    "import numpy as np\n",
    "import keras\n",
    "import matplotlib.pyplot as plt"
   ]
  },
  {
   "cell_type": "code",
   "execution_count": 2,
   "id": "cc686d20-8b80-42f9-a5aa-48ad2f3da89f",
   "metadata": {},
   "outputs": [],
   "source": [
    "mnist = keras.datasets.mnist"
   ]
  },
  {
   "cell_type": "code",
   "execution_count": 3,
   "id": "2e308007-9e0a-4a42-81ff-24568a6c4f18",
   "metadata": {},
   "outputs": [],
   "source": [
    "tb = keras.callbacks.TensorBoard(log_dir=\"log_hello\")"
   ]
  },
  {
   "cell_type": "code",
   "execution_count": 4,
   "id": "fdbb6b4c-4107-4717-86ef-bb3a2b0f7030",
   "metadata": {},
   "outputs": [],
   "source": [
    "(X_train,Y_train),(X_test,Y_test) = mnist.load_data()"
   ]
  },
  {
   "cell_type": "code",
   "execution_count": 5,
   "id": "89f64793-cbac-46d4-b0e3-43ce8e41404a",
   "metadata": {},
   "outputs": [],
   "source": [
    "X_train = X_train.reshape(-1,28,28,1)\n",
    "X_test = X_test.reshape(-1,28,28,1)"
   ]
  },
  {
   "cell_type": "code",
   "execution_count": 6,
   "id": "8afa1832-2d10-4d89-92e0-19d76aae0f54",
   "metadata": {},
   "outputs": [],
   "source": [
    "X_train = keras.utils.normalize(X_train,axis=1)"
   ]
  },
  {
   "cell_type": "code",
   "execution_count": 7,
   "id": "7c712477-5c89-4d7d-ab44-40e2b40010cf",
   "metadata": {},
   "outputs": [],
   "source": [
    "X_test = keras.utils.normalize(X_test,axis=1)"
   ]
  },
  {
   "cell_type": "code",
   "execution_count": 8,
   "id": "fb3b9bc1-fa29-46ca-aafb-d8ab38d2bd10",
   "metadata": {},
   "outputs": [
    {
     "data": {
      "text/plain": [
       "(60000, 28, 28, 1)"
      ]
     },
     "execution_count": 8,
     "metadata": {},
     "output_type": "execute_result"
    }
   ],
   "source": [
    "(X_train.shape)"
   ]
  },
  {
   "cell_type": "code",
   "execution_count": 9,
   "id": "17652390-26cf-4b47-89f0-7027c65c73f6",
   "metadata": {},
   "outputs": [],
   "source": [
    "model = keras.models.Sequential()\n",
    "model.add(keras.layers.Conv2D(64,(3,3),activation=tf.nn.relu))\n",
    "model.add(keras.layers.MaxPool2D(pool_size=(2,2,)))\n",
    "model.add(keras.layers.Conv2D(128,(3,3),activation=tf.nn.relu))\n",
    "model.add(keras.layers.MaxPool2D(pool_size=(2,2,)))\n",
    "model.add(keras.layers.Flatten())\n",
    "model.add(keras.layers.Dense(128,activation=tf.nn.relu))\n",
    "model.add(keras.layers.Dense(10,activation=tf.nn.softmax))\n",
    "model.compile(optimizer=\"adam\",loss=\"sparse_categorical_crossentropy\",metrics=[\"accuracy\"])"
   ]
  },
  {
   "cell_type": "code",
   "execution_count": 10,
   "id": "fe56fbb5-fe35-41dc-a4d1-0070e34174df",
   "metadata": {},
   "outputs": [
    {
     "name": "stdout",
     "output_type": "stream",
     "text": [
      "Epoch 1/5\n",
      "\u001b[1m1875/1875\u001b[0m \u001b[32m━━━━━━━━━━━━━━━━━━━━\u001b[0m\u001b[37m\u001b[0m \u001b[1m19s\u001b[0m 10ms/step - accuracy: 0.9052 - loss: 0.2983\n",
      "Epoch 2/5\n",
      "\u001b[1m1875/1875\u001b[0m \u001b[32m━━━━━━━━━━━━━━━━━━━━\u001b[0m\u001b[37m\u001b[0m \u001b[1m18s\u001b[0m 10ms/step - accuracy: 0.9849 - loss: 0.0509\n",
      "Epoch 3/5\n",
      "\u001b[1m1875/1875\u001b[0m \u001b[32m━━━━━━━━━━━━━━━━━━━━\u001b[0m\u001b[37m\u001b[0m \u001b[1m19s\u001b[0m 10ms/step - accuracy: 0.9904 - loss: 0.0323\n",
      "Epoch 4/5\n",
      "\u001b[1m1875/1875\u001b[0m \u001b[32m━━━━━━━━━━━━━━━━━━━━\u001b[0m\u001b[37m\u001b[0m \u001b[1m18s\u001b[0m 10ms/step - accuracy: 0.9937 - loss: 0.0193\n",
      "Epoch 5/5\n",
      "\u001b[1m1875/1875\u001b[0m \u001b[32m━━━━━━━━━━━━━━━━━━━━\u001b[0m\u001b[37m\u001b[0m \u001b[1m18s\u001b[0m 10ms/step - accuracy: 0.9957 - loss: 0.0138\n"
     ]
    },
    {
     "data": {
      "text/plain": [
       "<keras.src.callbacks.history.History at 0x22da77ae9d0>"
      ]
     },
     "execution_count": 10,
     "metadata": {},
     "output_type": "execute_result"
    }
   ],
   "source": [
    "model.fit(X_train,Y_train,epochs=5,callbacks=[tb])"
   ]
  },
  {
   "cell_type": "code",
   "execution_count": 11,
   "id": "f25fe854-b08e-40d2-b05b-8ec27d4760f8",
   "metadata": {},
   "outputs": [
    {
     "name": "stdout",
     "output_type": "stream",
     "text": [
      "\u001b[1m313/313\u001b[0m \u001b[32m━━━━━━━━━━━━━━━━━━━━\u001b[0m\u001b[37m\u001b[0m \u001b[1m1s\u001b[0m 3ms/step\n"
     ]
    }
   ],
   "source": [
    "y_pred = model.predict(X_test)"
   ]
  },
  {
   "cell_type": "code",
   "execution_count": 12,
   "id": "48cd203f-de31-42f3-9054-fcba08e993d0",
   "metadata": {},
   "outputs": [
    {
     "data": {
      "text/plain": [
       "array([[2.97538036e-11, 9.92031346e-10, 7.63915011e-08, ...,\n",
       "        9.99997616e-01, 1.16138047e-07, 1.92292055e-06],\n",
       "       [1.49629562e-11, 2.54792326e-10, 1.00000000e+00, ...,\n",
       "        3.89278859e-10, 7.90946808e-10, 4.56424678e-15],\n",
       "       [1.02631306e-11, 9.99964118e-01, 1.45881945e-10, ...,\n",
       "        4.60909263e-07, 1.37740868e-08, 5.31723165e-10],\n",
       "       ...,\n",
       "       [2.95120279e-18, 1.65240727e-12, 1.45379812e-16, ...,\n",
       "        2.88059377e-12, 1.81425719e-08, 2.94863955e-09],\n",
       "       [1.05506736e-13, 4.75430005e-14, 2.13143474e-15, ...,\n",
       "        6.92718832e-13, 1.05378589e-04, 6.84517872e-13],\n",
       "       [8.18986035e-09, 1.54795970e-07, 3.94356830e-05, ...,\n",
       "        2.02599626e-09, 1.38006868e-07, 2.66595257e-09]], dtype=float32)"
      ]
     },
     "execution_count": 12,
     "metadata": {},
     "output_type": "execute_result"
    }
   ],
   "source": [
    "y_pred"
   ]
  },
  {
   "cell_type": "code",
   "execution_count": 13,
   "id": "7de08e4a-299d-48ca-a5fe-7ebd3f6f5d89",
   "metadata": {},
   "outputs": [
    {
     "data": {
      "text/plain": [
       "array([7, 2, 1, ..., 4, 5, 6], dtype=uint8)"
      ]
     },
     "execution_count": 13,
     "metadata": {},
     "output_type": "execute_result"
    }
   ],
   "source": [
    "Y_test"
   ]
  },
  {
   "cell_type": "code",
   "execution_count": 20,
   "id": "f233af73-e5ad-4ac0-8eae-873c47c0882f",
   "metadata": {},
   "outputs": [
    {
     "name": "stdout",
     "output_type": "stream",
     "text": [
      "\u001b[1m313/313\u001b[0m \u001b[32m━━━━━━━━━━━━━━━━━━━━\u001b[0m\u001b[37m\u001b[0m \u001b[1m1s\u001b[0m 3ms/step - accuracy: 0.9849 - loss: 0.0614\n"
     ]
    }
   ],
   "source": [
    "loss, accuracy = model.evaluate(X_test,Y_test)"
   ]
  },
  {
   "cell_type": "code",
   "execution_count": 21,
   "id": "3826ec3d-29a4-490d-925d-6f66a04d20c1",
   "metadata": {},
   "outputs": [
    {
     "name": "stdout",
     "output_type": "stream",
     "text": [
      "0.04912415146827698 0.9868000149726868\n"
     ]
    }
   ],
   "source": [
    "print(loss,accuracy)"
   ]
  },
  {
   "cell_type": "code",
   "execution_count": null,
   "id": "e221b183-b7a6-4832-9367-0d87c2bcaa19",
   "metadata": {},
   "outputs": [],
   "source": []
  }
 ],
 "metadata": {
  "kernelspec": {
   "display_name": "Python 3 (ipykernel)",
   "language": "python",
   "name": "python3"
  },
  "language_info": {
   "codemirror_mode": {
    "name": "ipython",
    "version": 3
   },
   "file_extension": ".py",
   "mimetype": "text/x-python",
   "name": "python",
   "nbconvert_exporter": "python",
   "pygments_lexer": "ipython3",
   "version": "3.9.13"
  }
 },
 "nbformat": 4,
 "nbformat_minor": 5
}
