{
 "cells": [
  {
   "cell_type": "code",
   "execution_count": 1,
   "id": "04515e9b-9407-4c3d-9ba7-d42bc48b239a",
   "metadata": {},
   "outputs": [],
   "source": [
    "import numpy as np"
   ]
  },
  {
   "cell_type": "code",
   "execution_count": 14,
   "id": "3f5bd64c-ed9b-4269-9a29-e3463e886d48",
   "metadata": {},
   "outputs": [],
   "source": [
    "class Neural:\n",
    "    def __init__(self,no_of_inputs,no_of_neuron):\n",
    "        self.weight = np.zeros((no_of_inputs,no_of_neuron))\n",
    "        self.bias = np.zeros((1,no_of_neuron))\n",
    "    \n",
    "    def activation(self,x):\n",
    "        return np.where(x >=1,1,0)\n",
    "    \n",
    "    def forward(self,x):\n",
    "        self.y1 = np.dot(x,self.weight) + self.bias\n",
    "        self.y1 = self.activation(self.y1)\n",
    "        return self.y1\n",
    "\n",
    "    def backpropogate(self,x,y,lr=0.01):\n",
    "        error = self.y1 - y\n",
    "        error = error*lr\n",
    "        self.weight -=  error*np.array([x]).T\n",
    "        self.bias -= error\n",
    "\n",
    "    def train(self,epoch,x,y):\n",
    "        for _ in range(epoch):\n",
    "            for i in range(len(x)):\n",
    "                self.forward(x[i])\n",
    "                self.backpropogate(x[i],y[i])\n",
    "\n",
    "    def test(self,x):\n",
    "        for i in range(len(x)):\n",
    "            print(self.forward(x[i]))\n",
    "        "
   ]
  },
  {
   "cell_type": "code",
   "execution_count": 15,
   "id": "4a3ab6aa-0029-495b-99f6-a37587316e36",
   "metadata": {},
   "outputs": [],
   "source": [
    "X = []\n",
    "y = []\n",
    "for j in range(10):\n",
    "    a = (ord(str(j)))\n",
    "    a = bin(a)[2:]\n",
    "    a = list(str(a))\n",
    "    temp = []\n",
    "    for i in a:\n",
    "        temp.append(int(i))\n",
    "    X.append(temp)\n",
    "    y.append([j%2])\n",
    "X = np.array(X)\n",
    "y = np.array(y)"
   ]
  },
  {
   "cell_type": "code",
   "execution_count": 16,
   "id": "b8be3006-2731-4a5d-a8db-e7fb96274e75",
   "metadata": {},
   "outputs": [],
   "source": [
    "layer1 = Neural(6,1)"
   ]
  },
  {
   "cell_type": "code",
   "execution_count": 17,
   "id": "3a60a004-3383-4cf2-a1ef-0a72ed8416c5",
   "metadata": {},
   "outputs": [],
   "source": [
    "layer1.train(100,X,y)"
   ]
  },
  {
   "cell_type": "code",
   "execution_count": 18,
   "id": "dc0dc555-6b68-4a72-b7af-55f87da114ab",
   "metadata": {},
   "outputs": [
    {
     "name": "stdout",
     "output_type": "stream",
     "text": [
      "[[0]]\n",
      "[[1]]\n",
      "[[0]]\n",
      "[[1]]\n",
      "[[0]]\n",
      "[[1]]\n",
      "[[0]]\n",
      "[[1]]\n",
      "[[0]]\n",
      "[[1]]\n"
     ]
    }
   ],
   "source": [
    "layer1.test(X)"
   ]
  },
  {
   "cell_type": "code",
   "execution_count": 19,
   "id": "f82f9898-7b47-410f-b90a-a724db32208e",
   "metadata": {},
   "outputs": [
    {
     "name": "stdout",
     "output_type": "stream",
     "text": [
      "[[0.25]\n",
      " [0.25]\n",
      " [0.05]\n",
      " [0.09]\n",
      " [0.09]\n",
      " [0.25]] [[0.25]]\n"
     ]
    }
   ],
   "source": [
    "print(layer1.weight,layer1.bias)"
   ]
  },
  {
   "cell_type": "code",
   "execution_count": null,
   "id": "38a4080c-5cb9-4291-90d5-bb50421dd8f0",
   "metadata": {},
   "outputs": [],
   "source": []
  }
 ],
 "metadata": {
  "kernelspec": {
   "display_name": "Python 3 (ipykernel)",
   "language": "python",
   "name": "python3"
  },
  "language_info": {
   "codemirror_mode": {
    "name": "ipython",
    "version": 3
   },
   "file_extension": ".py",
   "mimetype": "text/x-python",
   "name": "python",
   "nbconvert_exporter": "python",
   "pygments_lexer": "ipython3",
   "version": "3.9.13"
  }
 },
 "nbformat": 4,
 "nbformat_minor": 5
}
